{
 "cells": [
  {
   "cell_type": "code",
   "execution_count": null,
   "id": "15213405",
   "metadata": {},
   "outputs": [],
   "source": [
    "from selenium import webdriver\n",
    "from selenium.webdriver.common.by import By\n",
    "from selenium.webdriver.support.ui import WebDriverWait\n",
    "from selenium.webdriver.support import expected_conditions as EC\n",
    "import pandas as pd"
   ]
  },
  {
   "cell_type": "code",
   "execution_count": null,
   "id": "9cea3df6",
   "metadata": {},
   "outputs": [],
   "source": [
    "# Create a new instance of the Chrome driver\n",
    "driver = webdriver.Chrome()\n",
    "\n",
    "# Navigate to the initial page\n",
    "driver.get('https://webscraper.io/test-sites/e-commerce/static/computers/laptops')"
   ]
  },
  {
   "cell_type": "code",
   "execution_count": null,
   "id": "d95cf9bb",
   "metadata": {},
   "outputs": [],
   "source": [
    "# Function to scroll and click the \"Next\" button\n",
    "def scroll_and_click_next():\n",
    "    scroll_height = 2000\n",
    "    driver.execute_script(f\"window.scrollBy(0, {scroll_height});\")\n",
    "\n",
    "    # Wait for the \"Next\" button to be clickable\n",
    "    next_button = WebDriverWait(driver, 10).until(\n",
    "        EC.element_to_be_clickable((By.XPATH, \"/html/body/div[1]/div[3]/div/div[2]/div[2]/nav/ul/li[15]/a\"))\n",
    "    )\n",
    "\n",
    "    # Click the \"Next\" button\n",
    "    next_button.click()\n",
    "\n",
    "# Lists to store data\n",
    "product_names = []\n",
    "product_prices = []\n",
    "product_descriptions = []"
   ]
  },
  {
   "cell_type": "code",
   "execution_count": 30,
   "id": "5c8ed2ea",
   "metadata": {
    "ExecuteTime": {
     "end_time": "2023-12-30T22:26:58.087407Z",
     "start_time": "2023-12-30T22:26:25.595347Z"
    }
   },
   "outputs": [
    {
     "name": "stdout",
     "output_type": "stream",
     "text": [
      "An error occurred: Message: \n",
      "Stacktrace:\n",
      "\tGetHandleVerifier [0x00007FF653A12142+3514994]\n",
      "\t(No symbol) [0x00007FF653630CE2]\n",
      "\t(No symbol) [0x00007FF6534D76AA]\n",
      "\t(No symbol) [0x00007FF653521860]\n",
      "\t(No symbol) [0x00007FF65352197C]\n",
      "\t(No symbol) [0x00007FF653564EE7]\n",
      "\t(No symbol) [0x00007FF65354602F]\n",
      "\t(No symbol) [0x00007FF6535628F6]\n",
      "\t(No symbol) [0x00007FF653545D93]\n",
      "\t(No symbol) [0x00007FF653514BDC]\n",
      "\t(No symbol) [0x00007FF653515C64]\n",
      "\tGetHandleVerifier [0x00007FF653A3E16B+3695259]\n",
      "\tGetHandleVerifier [0x00007FF653A96737+4057191]\n",
      "\tGetHandleVerifier [0x00007FF653A8E4E3+4023827]\n",
      "\tGetHandleVerifier [0x00007FF6537604F9+689705]\n",
      "\t(No symbol) [0x00007FF65363C048]\n",
      "\t(No symbol) [0x00007FF653638044]\n",
      "\t(No symbol) [0x00007FF6536381C9]\n",
      "\t(No symbol) [0x00007FF6536288C4]\n",
      "\tBaseThreadInitThunk [0x00007FFF69BE7344+20]\n",
      "\tRtlUserThreadStart [0x00007FFF6A3226B1+33]\n",
      "\n"
     ]
    }
   ],
   "source": [
    "while True:\n",
    "    try:\n",
    "        # Find elements by class name\n",
    "        names = driver.find_elements(By.CLASS_NAME, 'title')\n",
    "        prices = driver.find_elements(By.CLASS_NAME, 'price')\n",
    "        descriptions = driver.find_elements(By.CLASS_NAME, 'description')\n",
    "\n",
    "        # Create lists to store data\n",
    "        names_list = [name.get_attribute('title') for name in names]\n",
    "        prices_list = [price.text for price in prices]\n",
    "        descriptions_list = [description.text for description in descriptions]\n",
    "\n",
    "        product_names.extend(names_list)\n",
    "        product_prices.extend(prices_list)\n",
    "        product_descriptions.extend(descriptions_list)\n",
    "\n",
    "        # Scroll and click the \"Next\" button\n",
    "        scroll_and_click_next()\n",
    "\n",
    "    except Exception as e:\n",
    "        print(f\"An error occurred: {e}\")\n",
    "        break\n",
    "\n",
    "# Continue with the rest of your code or close the browser\n",
    "driver.quit()\n"
   ]
  },
  {
   "cell_type": "code",
   "execution_count": 34,
   "id": "5eab4537",
   "metadata": {
    "ExecuteTime": {
     "end_time": "2023-12-30T22:31:38.239136Z",
     "start_time": "2023-12-30T22:31:38.209968Z"
    }
   },
   "outputs": [
    {
     "data": {
      "text/html": [
       "<div>\n",
       "<style scoped>\n",
       "    .dataframe tbody tr th:only-of-type {\n",
       "        vertical-align: middle;\n",
       "    }\n",
       "\n",
       "    .dataframe tbody tr th {\n",
       "        vertical-align: top;\n",
       "    }\n",
       "\n",
       "    .dataframe thead th {\n",
       "        text-align: right;\n",
       "    }\n",
       "</style>\n",
       "<table border=\"1\" class=\"dataframe\">\n",
       "  <thead>\n",
       "    <tr style=\"text-align: right;\">\n",
       "      <th></th>\n",
       "      <th>Name</th>\n",
       "      <th>Price</th>\n",
       "      <th>Description</th>\n",
       "    </tr>\n",
       "  </thead>\n",
       "  <tbody>\n",
       "    <tr>\n",
       "      <th>0</th>\n",
       "      <td>Packard 255 G2</td>\n",
       "      <td>$416.99</td>\n",
       "      <td>15.6\", AMD E2-3800 1.3GHz, 4GB, 500GB, Windows...</td>\n",
       "    </tr>\n",
       "    <tr>\n",
       "      <th>1</th>\n",
       "      <td>Aspire E1-510</td>\n",
       "      <td>$306.99</td>\n",
       "      <td>15.6\", Pentium N3520 2.16GHz, 4GB, 500GB, Linux</td>\n",
       "    </tr>\n",
       "    <tr>\n",
       "      <th>2</th>\n",
       "      <td>ThinkPad T540p</td>\n",
       "      <td>$1178.99</td>\n",
       "      <td>15.6\", Core i5-4200M, 4GB, 500GB, Win7 Pro 64bit</td>\n",
       "    </tr>\n",
       "    <tr>\n",
       "      <th>3</th>\n",
       "      <td>ProBook</td>\n",
       "      <td>$739.99</td>\n",
       "      <td>14\", Core i5 2.6GHz, 4GB, 500GB, Win7 Pro 64bit</td>\n",
       "    </tr>\n",
       "    <tr>\n",
       "      <th>4</th>\n",
       "      <td>ThinkPad X240</td>\n",
       "      <td>$1311.99</td>\n",
       "      <td>12.5\", Core i5-4300U, 8GB, 240GB SSD, Win7 Pro...</td>\n",
       "    </tr>\n",
       "    <tr>\n",
       "      <th>...</th>\n",
       "      <td>...</td>\n",
       "      <td>...</td>\n",
       "      <td>...</td>\n",
       "    </tr>\n",
       "    <tr>\n",
       "      <th>112</th>\n",
       "      <td>Lenovo ThinkPad T470</td>\n",
       "      <td>$1349.23</td>\n",
       "      <td>Lenovo ThinkPad T470, 14\" FHD IPS, Core i5-720...</td>\n",
       "    </tr>\n",
       "    <tr>\n",
       "      <th>113</th>\n",
       "      <td>Lenovo ThinkPad Yoga 370 Black</td>\n",
       "      <td>$1362.24</td>\n",
       "      <td>Lenovo ThinkPad Yoga 370 Black, 13.3\" FHD IPS ...</td>\n",
       "    </tr>\n",
       "    <tr>\n",
       "      <th>114</th>\n",
       "      <td>Toshiba Portege X20W-D-10V Black/Blue</td>\n",
       "      <td>$1366.32</td>\n",
       "      <td>Toshiba Portege X20W-D-10V Black/Blue, 12.5\" F...</td>\n",
       "    </tr>\n",
       "    <tr>\n",
       "      <th>115</th>\n",
       "      <td>Asus ASUSPRO B9440UA-GV0279R Gray</td>\n",
       "      <td>$1381.13</td>\n",
       "      <td>Asus ASUSPRO B9440UA-GV0279R Gray, 14\" FHD, Co...</td>\n",
       "    </tr>\n",
       "    <tr>\n",
       "      <th>116</th>\n",
       "      <td>Asus ROG Strix GL702VM-GC146T</td>\n",
       "      <td>$1399.00</td>\n",
       "      <td>Asus ROG Strix GL702VM-GC146T, 17.3\" FHD, Core...</td>\n",
       "    </tr>\n",
       "  </tbody>\n",
       "</table>\n",
       "<p>117 rows × 3 columns</p>\n",
       "</div>"
      ],
      "text/plain": [
       "                                      Name     Price  \\\n",
       "0                           Packard 255 G2   $416.99   \n",
       "1                            Aspire E1-510   $306.99   \n",
       "2                           ThinkPad T540p  $1178.99   \n",
       "3                                  ProBook   $739.99   \n",
       "4                            ThinkPad X240  $1311.99   \n",
       "..                                     ...       ...   \n",
       "112                   Lenovo ThinkPad T470  $1349.23   \n",
       "113         Lenovo ThinkPad Yoga 370 Black  $1362.24   \n",
       "114  Toshiba Portege X20W-D-10V Black/Blue  $1366.32   \n",
       "115      Asus ASUSPRO B9440UA-GV0279R Gray  $1381.13   \n",
       "116          Asus ROG Strix GL702VM-GC146T  $1399.00   \n",
       "\n",
       "                                           Description  \n",
       "0    15.6\", AMD E2-3800 1.3GHz, 4GB, 500GB, Windows...  \n",
       "1      15.6\", Pentium N3520 2.16GHz, 4GB, 500GB, Linux  \n",
       "2     15.6\", Core i5-4200M, 4GB, 500GB, Win7 Pro 64bit  \n",
       "3      14\", Core i5 2.6GHz, 4GB, 500GB, Win7 Pro 64bit  \n",
       "4    12.5\", Core i5-4300U, 8GB, 240GB SSD, Win7 Pro...  \n",
       "..                                                 ...  \n",
       "112  Lenovo ThinkPad T470, 14\" FHD IPS, Core i5-720...  \n",
       "113  Lenovo ThinkPad Yoga 370 Black, 13.3\" FHD IPS ...  \n",
       "114  Toshiba Portege X20W-D-10V Black/Blue, 12.5\" F...  \n",
       "115  Asus ASUSPRO B9440UA-GV0279R Gray, 14\" FHD, Co...  \n",
       "116  Asus ROG Strix GL702VM-GC146T, 17.3\" FHD, Core...  \n",
       "\n",
       "[117 rows x 3 columns]"
      ]
     },
     "execution_count": 34,
     "metadata": {},
     "output_type": "execute_result"
    }
   ],
   "source": [
    "df = pd.DataFrame({'Name':product_names,\n",
    "                  'Price':product_prices,\n",
    "                  'Description': product_descriptions})\n",
    "df"
   ]
  }
 ],
 "metadata": {
  "kernelspec": {
   "display_name": "Python 3 (ipykernel)",
   "language": "python",
   "name": "python3"
  },
  "language_info": {
   "codemirror_mode": {
    "name": "ipython",
    "version": 3
   },
   "file_extension": ".py",
   "mimetype": "text/x-python",
   "name": "python",
   "nbconvert_exporter": "python",
   "pygments_lexer": "ipython3",
   "version": "3.11.4"
  },
  "nbTranslate": {
   "displayLangs": [
    "*"
   ],
   "hotkey": "alt-t",
   "langInMainMenu": true,
   "sourceLang": "en",
   "targetLang": "fr",
   "useGoogleTranslate": true
  },
  "toc": {
   "base_numbering": 1,
   "nav_menu": {},
   "number_sections": true,
   "sideBar": true,
   "skip_h1_title": false,
   "title_cell": "Table of Contents",
   "title_sidebar": "Contents",
   "toc_cell": false,
   "toc_position": {},
   "toc_section_display": true,
   "toc_window_display": false
  },
  "varInspector": {
   "cols": {
    "lenName": 16,
    "lenType": 16,
    "lenVar": 40
   },
   "kernels_config": {
    "python": {
     "delete_cmd_postfix": "",
     "delete_cmd_prefix": "del ",
     "library": "var_list.py",
     "varRefreshCmd": "print(var_dic_list())"
    },
    "r": {
     "delete_cmd_postfix": ") ",
     "delete_cmd_prefix": "rm(",
     "library": "var_list.r",
     "varRefreshCmd": "cat(var_dic_list()) "
    }
   },
   "types_to_exclude": [
    "module",
    "function",
    "builtin_function_or_method",
    "instance",
    "_Feature"
   ],
   "window_display": false
  }
 },
 "nbformat": 4,
 "nbformat_minor": 5
}
