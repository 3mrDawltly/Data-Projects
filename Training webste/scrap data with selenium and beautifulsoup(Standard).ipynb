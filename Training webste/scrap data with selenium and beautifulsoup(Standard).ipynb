{
 "cells": [
  {
   "cell_type": "code",
   "execution_count": 1,
   "id": "5a771270",
   "metadata": {
    "ExecuteTime": {
     "end_time": "2024-01-07T14:11:53.586049Z",
     "start_time": "2024-01-07T14:11:53.083425Z"
    }
   },
   "outputs": [],
   "source": [
    "import pandas as pd\n",
    "from bs4 import BeautifulSoup\n",
    "from selenium import webdriver\n",
    "from selenium.webdriver.common.by import By\n",
    "from selenium.webdriver.common.keys import Keys\n",
    "from selenium.webdriver.support.ui import WebDriverWait\n",
    "from selenium.webdriver.support import expected_conditions as EC"
   ]
  },
  {
   "cell_type": "code",
   "execution_count": 2,
   "id": "353db0d2",
   "metadata": {
    "ExecuteTime": {
     "end_time": "2024-01-07T14:11:56.917968Z",
     "start_time": "2024-01-07T14:11:56.912374Z"
    }
   },
   "outputs": [],
   "source": [
    "def scroll_to_element(driver, element):\n",
    "    # Scroll until the element is found or a certain number of attempts are made\n",
    "    max_attempts = 10\n",
    "    attempts = 0\n",
    "\n",
    "    while attempts < max_attempts:\n",
    "        try:\n",
    "            # Check if the element is visible\n",
    "            if element.is_displayed():\n",
    "                break\n",
    "        except Exception as e:\n",
    "            pass\n",
    "\n",
    "        # Scroll down using JavaScript\n",
    "        driver.execute_script(\"window.scrollTo(0, document.body.scrollHeight);\")\n",
    "\n",
    "        # Increment the attempt counter\n",
    "        attempts += 1\n",
    "\n",
    "    if attempts == max_attempts:\n",
    "        print(\"Element not found after scrolling.\")"
   ]
  },
  {
   "cell_type": "code",
   "execution_count": 3,
   "id": "0f4acbe4",
   "metadata": {
    "ExecuteTime": {
     "end_time": "2024-01-07T14:12:02.369780Z",
     "start_time": "2024-01-07T14:11:59.640034Z"
    }
   },
   "outputs": [],
   "source": [
    "url = 'https://webscraper.io/test-sites/e-commerce/ajax/computers/laptops'\n",
    "driver = webdriver.Chrome()\n",
    "driver.get(url)"
   ]
  },
  {
   "cell_type": "code",
   "execution_count": 4,
   "id": "13a2c375",
   "metadata": {
    "ExecuteTime": {
     "end_time": "2024-01-07T14:12:22.452448Z",
     "start_time": "2024-01-07T14:12:07.491409Z"
    },
    "code_folding": []
   },
   "outputs": [
    {
     "name": "stdout",
     "output_type": "stream",
     "text": [
      "done\n"
     ]
    }
   ],
   "source": [
    "name_list = []\n",
    "price_list = []\n",
    "description_list = []\n",
    "reviews_counts_list = []\n",
    "rate_list = []\n",
    "\n",
    "while True:\n",
    "    html_source = driver.execute_script(\"return document.documentElement.outerHTML\")\n",
    "    soup = BeautifulSoup(html_source, 'html.parser')\n",
    "    boxes = soup.find_all('div',class_= 'card-body')\n",
    "    for j in range(len(boxes)):\n",
    "        box = boxes[j]\n",
    "        \n",
    "        name = box.find('a',class_='title')\n",
    "        name_list.append(name['title'])\n",
    "        \n",
    "        price = box.find('h4',class_ = 'price')\n",
    "        price_list.append(price.text)\n",
    "        \n",
    "        description = box.find('p',class_='description')\n",
    "        description_list.append(description.text)\n",
    "        \n",
    "        review_counts = box.find_all('p',class_='review-count')\n",
    "        reviews_counts_list.append(review_counts[0].text)\n",
    "        \n",
    "        rates= len(box.find_all('span',class_= 'ws-icon ws-icon-star'))\n",
    "        rate_list.append(rates) \n",
    "    \n",
    "    try:         \n",
    "        # Find the element you want to scroll to (replace this with your own locator)\n",
    "        next_button = WebDriverWait(driver, 10).until(\n",
    "            EC.element_to_be_clickable((By.CSS_SELECTOR, 'body > div.wrapper > div.container.test-site > div > div.col-lg-9 > div.pager > button.btn.btn-default.next'))\n",
    "        )\n",
    "        # Scroll to the element\n",
    "        scroll_to_element(driver, next_button)\n",
    "        # Now, you can interact with the found element or perform further actions\n",
    "        next_button.click()\n",
    "        \n",
    "    except Exception as e:\n",
    "        print(f\"done\")\n",
    "        break\n",
    "    \n",
    "        # Handle other exceptions here    "
   ]
  },
  {
   "cell_type": "code",
   "execution_count": 5,
   "id": "e10d1ee7",
   "metadata": {
    "ExecuteTime": {
     "end_time": "2024-01-07T14:12:25.382502Z",
     "start_time": "2024-01-07T14:12:25.352487Z"
    }
   },
   "outputs": [
    {
     "data": {
      "text/html": [
       "<div>\n",
       "<style scoped>\n",
       "    .dataframe tbody tr th:only-of-type {\n",
       "        vertical-align: middle;\n",
       "    }\n",
       "\n",
       "    .dataframe tbody tr th {\n",
       "        vertical-align: top;\n",
       "    }\n",
       "\n",
       "    .dataframe thead th {\n",
       "        text-align: right;\n",
       "    }\n",
       "</style>\n",
       "<table border=\"1\" class=\"dataframe\">\n",
       "  <thead>\n",
       "    <tr style=\"text-align: right;\">\n",
       "      <th></th>\n",
       "      <th>Name</th>\n",
       "      <th>Price</th>\n",
       "      <th>Descriptions</th>\n",
       "      <th>Reviews</th>\n",
       "      <th>Rates</th>\n",
       "    </tr>\n",
       "  </thead>\n",
       "  <tbody>\n",
       "    <tr>\n",
       "      <th>0</th>\n",
       "      <td>Asus VivoBook X441NA-GA190</td>\n",
       "      <td>$295.99</td>\n",
       "      <td>Asus VivoBook X441NA-GA190 Chocolate Black, 14...</td>\n",
       "      <td>1 reviews</td>\n",
       "      <td>5</td>\n",
       "    </tr>\n",
       "    <tr>\n",
       "      <th>1</th>\n",
       "      <td>Prestigio SmartBook 133S Dark Grey</td>\n",
       "      <td>$299.00</td>\n",
       "      <td>Prestigio SmartBook 133S Dark Grey, 13.3\" FHD ...</td>\n",
       "      <td>9 reviews</td>\n",
       "      <td>5</td>\n",
       "    </tr>\n",
       "    <tr>\n",
       "      <th>2</th>\n",
       "      <td>Prestigio SmartBook 133S Gold</td>\n",
       "      <td>$299.00</td>\n",
       "      <td>Prestigio SmartBook 133S Gold, 13.3\" FHD IPS, ...</td>\n",
       "      <td>9 reviews</td>\n",
       "      <td>5</td>\n",
       "    </tr>\n",
       "    <tr>\n",
       "      <th>3</th>\n",
       "      <td>Aspire E1-510</td>\n",
       "      <td>$306.99</td>\n",
       "      <td>15.6\", Pentium N3520 2.16GHz, 4GB, 500GB, Linux</td>\n",
       "      <td>2 reviews</td>\n",
       "      <td>5</td>\n",
       "    </tr>\n",
       "    <tr>\n",
       "      <th>4</th>\n",
       "      <td>Lenovo V110-15IAP</td>\n",
       "      <td>$321.94</td>\n",
       "      <td>Lenovo V110-15IAP, 15.6\" HD, Celeron N3350 1.1...</td>\n",
       "      <td>12 reviews</td>\n",
       "      <td>5</td>\n",
       "    </tr>\n",
       "    <tr>\n",
       "      <th>...</th>\n",
       "      <td>...</td>\n",
       "      <td>...</td>\n",
       "      <td>...</td>\n",
       "      <td>...</td>\n",
       "      <td>...</td>\n",
       "    </tr>\n",
       "    <tr>\n",
       "      <th>376</th>\n",
       "      <td>Lenovo Legion Y720</td>\n",
       "      <td>$1399.00</td>\n",
       "      <td>Lenovo Legion Y720, 15.6\" FHD IPS, Core i7-770...</td>\n",
       "      <td>12 reviews</td>\n",
       "      <td>5</td>\n",
       "    </tr>\n",
       "    <tr>\n",
       "      <th>377</th>\n",
       "      <td>Asus ROG Strix GL702VM-GC146T</td>\n",
       "      <td>$1399.00</td>\n",
       "      <td>Asus ROG Strix GL702VM-GC146T, 17.3\" FHD, Core...</td>\n",
       "      <td>1 reviews</td>\n",
       "      <td>5</td>\n",
       "    </tr>\n",
       "    <tr>\n",
       "      <th>378</th>\n",
       "      <td>Asus ROG Strix GL702ZC-GC154T</td>\n",
       "      <td>$1769.00</td>\n",
       "      <td>Asus ROG Strix GL702ZC-GC154T, 17.3\" FHD, Ryze...</td>\n",
       "      <td>1 reviews</td>\n",
       "      <td>5</td>\n",
       "    </tr>\n",
       "    <tr>\n",
       "      <th>379</th>\n",
       "      <td>Asus ROG Strix GL702ZC-GC209T</td>\n",
       "      <td>$1769.00</td>\n",
       "      <td>Asus ROG Strix GL702ZC-GC209T, 17.3\" FHD IPS, ...</td>\n",
       "      <td>1 reviews</td>\n",
       "      <td>5</td>\n",
       "    </tr>\n",
       "    <tr>\n",
       "      <th>380</th>\n",
       "      <td>Asus ROG Strix SCAR Edition GL503VM-ED115T</td>\n",
       "      <td>$1799.00</td>\n",
       "      <td>Asus ROG Strix SCAR Edition GL503VM-ED115T, 15...</td>\n",
       "      <td>1 reviews</td>\n",
       "      <td>5</td>\n",
       "    </tr>\n",
       "  </tbody>\n",
       "</table>\n",
       "<p>381 rows × 5 columns</p>\n",
       "</div>"
      ],
      "text/plain": [
       "                                           Name     Price  \\\n",
       "0                    Asus VivoBook X441NA-GA190   $295.99   \n",
       "1            Prestigio SmartBook 133S Dark Grey   $299.00   \n",
       "2                 Prestigio SmartBook 133S Gold   $299.00   \n",
       "3                                 Aspire E1-510   $306.99   \n",
       "4                             Lenovo V110-15IAP   $321.94   \n",
       "..                                          ...       ...   \n",
       "376                          Lenovo Legion Y720  $1399.00   \n",
       "377               Asus ROG Strix GL702VM-GC146T  $1399.00   \n",
       "378               Asus ROG Strix GL702ZC-GC154T  $1769.00   \n",
       "379               Asus ROG Strix GL702ZC-GC209T  $1769.00   \n",
       "380  Asus ROG Strix SCAR Edition GL503VM-ED115T  $1799.00   \n",
       "\n",
       "                                          Descriptions     Reviews  Rates  \n",
       "0    Asus VivoBook X441NA-GA190 Chocolate Black, 14...   1 reviews      5  \n",
       "1    Prestigio SmartBook 133S Dark Grey, 13.3\" FHD ...   9 reviews      5  \n",
       "2    Prestigio SmartBook 133S Gold, 13.3\" FHD IPS, ...   9 reviews      5  \n",
       "3      15.6\", Pentium N3520 2.16GHz, 4GB, 500GB, Linux   2 reviews      5  \n",
       "4    Lenovo V110-15IAP, 15.6\" HD, Celeron N3350 1.1...  12 reviews      5  \n",
       "..                                                 ...         ...    ...  \n",
       "376  Lenovo Legion Y720, 15.6\" FHD IPS, Core i7-770...  12 reviews      5  \n",
       "377  Asus ROG Strix GL702VM-GC146T, 17.3\" FHD, Core...   1 reviews      5  \n",
       "378  Asus ROG Strix GL702ZC-GC154T, 17.3\" FHD, Ryze...   1 reviews      5  \n",
       "379  Asus ROG Strix GL702ZC-GC209T, 17.3\" FHD IPS, ...   1 reviews      5  \n",
       "380  Asus ROG Strix SCAR Edition GL503VM-ED115T, 15...   1 reviews      5  \n",
       "\n",
       "[381 rows x 5 columns]"
      ]
     },
     "execution_count": 5,
     "metadata": {},
     "output_type": "execute_result"
    }
   ],
   "source": [
    "df = pd.DataFrame({'Name':name_list,'Price':price_list,'Descriptions':description_list,'Reviews':reviews_counts_list,'Rates':rate_list})\n",
    "df"
   ]
  },
  {
   "cell_type": "code",
   "execution_count": null,
   "id": "ffddf52a",
   "metadata": {},
   "outputs": [],
   "source": []
  }
 ],
 "metadata": {
  "kernelspec": {
   "display_name": "Python 3 (ipykernel)",
   "language": "python",
   "name": "python3"
  },
  "language_info": {
   "codemirror_mode": {
    "name": "ipython",
    "version": 3
   },
   "file_extension": ".py",
   "mimetype": "text/x-python",
   "name": "python",
   "nbconvert_exporter": "python",
   "pygments_lexer": "ipython3",
   "version": "3.11.4"
  },
  "nbTranslate": {
   "displayLangs": [
    "*"
   ],
   "hotkey": "alt-t",
   "langInMainMenu": true,
   "sourceLang": "en",
   "targetLang": "fr",
   "useGoogleTranslate": true
  },
  "toc": {
   "base_numbering": 1,
   "nav_menu": {},
   "number_sections": true,
   "sideBar": true,
   "skip_h1_title": false,
   "title_cell": "Table of Contents",
   "title_sidebar": "Contents",
   "toc_cell": false,
   "toc_position": {},
   "toc_section_display": true,
   "toc_window_display": false
  },
  "varInspector": {
   "cols": {
    "lenName": 16,
    "lenType": 16,
    "lenVar": 40
   },
   "kernels_config": {
    "python": {
     "delete_cmd_postfix": "",
     "delete_cmd_prefix": "del ",
     "library": "var_list.py",
     "varRefreshCmd": "print(var_dic_list())"
    },
    "r": {
     "delete_cmd_postfix": ") ",
     "delete_cmd_prefix": "rm(",
     "library": "var_list.r",
     "varRefreshCmd": "cat(var_dic_list()) "
    }
   },
   "types_to_exclude": [
    "module",
    "function",
    "builtin_function_or_method",
    "instance",
    "_Feature"
   ],
   "window_display": false
  }
 },
 "nbformat": 4,
 "nbformat_minor": 5
}
